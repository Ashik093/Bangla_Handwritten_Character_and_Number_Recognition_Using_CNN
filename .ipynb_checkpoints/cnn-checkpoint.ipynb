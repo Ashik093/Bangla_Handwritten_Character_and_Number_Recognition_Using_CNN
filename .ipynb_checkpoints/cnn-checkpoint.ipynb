{
 "cells": [
  {
   "cell_type": "code",
   "execution_count": 1,
   "metadata": {},
   "outputs": [],
   "source": [
    "import numpy as np\n",
    "import pandas as pd\n",
    "import os\n",
    "import sklearn"
   ]
  },
  {
   "cell_type": "code",
   "execution_count": 2,
   "metadata": {},
   "outputs": [
    {
     "name": "stderr",
     "output_type": "stream",
     "text": [
      "Using TensorFlow backend.\n"
     ]
    }
   ],
   "source": [
    "import matplotlib.pyplot as plt\n",
    "from sklearn.preprocessing import LabelEncoder\n",
    "import cv2\n",
    "from sklearn.model_selection import train_test_split\n",
    "from sklearn.utils import shuffle\n",
    "from tensorflow.keras.models import Sequential\n",
    "from tensorflow.keras.layers import Dense,Dropout,Flatten\n",
    "from tensorflow.keras.layers import Conv2D,MaxPool2D\n",
    "from tensorflow.keras.layers import Input, Dense\n",
    "from keras.utils import to_categorical\n",
    "from tensorflow.keras.models import Model\n",
    "from tensorflow.keras.preprocessing.image import ImageDataGenerator\n",
    "from keras import regularizers\n",
    "from sklearn.metrics import confusion_matrix\n",
    "import matplotlib.pyplot as plt\n",
    "from tensorflow.keras.applications.vgg16 import VGG16"
   ]
  },
  {
   "cell_type": "code",
   "execution_count": 3,
   "metadata": {},
   "outputs": [
    {
     "name": "stdout",
     "output_type": "stream",
     "text": [
      "C:\\Users\\Ashik\\Desktop\\data\n",
      "['0', '1', '2', '3', '4', '5', '6', '7', '8', '9', '10', '11', '12', '13', '14', '15', '16', '17', '18', '19', '20', '21', '22', '23', '24', '25', '26', '27', '28', '29', '30', '31', '32', '33', '34', '35', '36', '37', '38', '39', '40', '41', '42', '43', '44', '45', '46', '47', '48', '49', '50', '51', '52', '53', '54', '55', '56', '57', '58', '59']\n"
     ]
    }
   ],
   "source": [
    "PATH = os.getcwd()\n",
    "print(PATH)\n",
    "PATH = './images/'\n",
    "data_dir_list = os.listdir(PATH)\n",
    "data_dir_list.sort(key=int)\n",
    "print(data_dir_list)"
   ]
  },
  {
   "cell_type": "code",
   "execution_count": 4,
   "metadata": {},
   "outputs": [],
   "source": [
    "img_rows=44\n",
    "img_cols=44\n",
    "num_channel=3\n",
    "\n",
    "num_epoch = 20\n",
    "batch_size = 256\n",
    "\n",
    "img_data_list=[]\n",
    "classes_names_list=[]\n",
    "target_column=[]"
   ]
  },
  {
   "cell_type": "code",
   "execution_count": 5,
   "metadata": {},
   "outputs": [
    {
     "name": "stdout",
     "output_type": "stream",
     "text": [
      "Getting images from 0 folder\n",
      "\n",
      "Getting images from 1 folder\n",
      "\n",
      "Getting images from 2 folder\n",
      "\n",
      "Getting images from 3 folder\n",
      "\n",
      "Getting images from 4 folder\n",
      "\n",
      "Getting images from 5 folder\n",
      "\n",
      "Getting images from 6 folder\n",
      "\n",
      "Getting images from 7 folder\n",
      "\n",
      "Getting images from 8 folder\n",
      "\n",
      "Getting images from 9 folder\n",
      "\n",
      "Getting images from 10 folder\n",
      "\n",
      "Getting images from 11 folder\n",
      "\n",
      "Getting images from 12 folder\n",
      "\n",
      "Getting images from 13 folder\n",
      "\n",
      "Getting images from 14 folder\n",
      "\n",
      "Getting images from 15 folder\n",
      "\n",
      "Getting images from 16 folder\n",
      "\n",
      "Getting images from 17 folder\n",
      "\n",
      "Getting images from 18 folder\n",
      "\n",
      "Getting images from 19 folder\n",
      "\n",
      "Getting images from 20 folder\n",
      "\n",
      "Getting images from 21 folder\n",
      "\n",
      "Getting images from 22 folder\n",
      "\n",
      "Getting images from 23 folder\n",
      "\n",
      "Getting images from 24 folder\n",
      "\n",
      "Getting images from 25 folder\n",
      "\n",
      "Getting images from 26 folder\n",
      "\n",
      "Getting images from 27 folder\n",
      "\n",
      "Getting images from 28 folder\n",
      "\n",
      "Getting images from 29 folder\n",
      "\n",
      "Getting images from 30 folder\n",
      "\n",
      "Getting images from 31 folder\n",
      "\n",
      "Getting images from 32 folder\n",
      "\n",
      "Getting images from 33 folder\n",
      "\n",
      "Getting images from 34 folder\n",
      "\n",
      "Getting images from 35 folder\n",
      "\n",
      "Getting images from 36 folder\n",
      "\n",
      "Getting images from 37 folder\n",
      "\n",
      "Getting images from 38 folder\n",
      "\n",
      "Getting images from 39 folder\n",
      "\n",
      "Getting images from 40 folder\n",
      "\n",
      "Getting images from 41 folder\n",
      "\n",
      "Getting images from 42 folder\n",
      "\n",
      "Getting images from 43 folder\n",
      "\n",
      "Getting images from 44 folder\n",
      "\n",
      "Getting images from 45 folder\n",
      "\n",
      "Getting images from 46 folder\n",
      "\n",
      "Getting images from 47 folder\n",
      "\n",
      "Getting images from 48 folder\n",
      "\n",
      "Getting images from 49 folder\n",
      "\n",
      "Getting images from 50 folder\n",
      "\n",
      "Getting images from 51 folder\n",
      "\n",
      "Getting images from 52 folder\n",
      "\n",
      "Getting images from 53 folder\n",
      "\n",
      "Getting images from 54 folder\n",
      "\n",
      "Getting images from 55 folder\n",
      "\n",
      "Getting images from 56 folder\n",
      "\n",
      "Getting images from 57 folder\n",
      "\n",
      "Getting images from 58 folder\n",
      "\n",
      "Getting images from 59 folder\n",
      "\n"
     ]
    }
   ],
   "source": [
    "for dataset in data_dir_list:\n",
    "    classes_names_list.append(dataset)\n",
    "    print(\"Getting images from {} folder\\n\".format(dataset))\n",
    "    img_list = os.listdir(PATH+'/'+ dataset)\n",
    "    for img in img_list:\n",
    "        input_img = cv2.imread(PATH + '/' + dataset + '/' + img)\n",
    "        input_img_resize=cv2.resize(input_img,(img_rows,img_cols))\n",
    "        img_data_list.append(input_img_resize)\n",
    "        target_column.append(dataset)"
   ]
  },
  {
   "cell_type": "code",
   "execution_count": 6,
   "metadata": {},
   "outputs": [
    {
     "name": "stdout",
     "output_type": "stream",
     "text": [
      "60\n"
     ]
    }
   ],
   "source": [
    "num_classes = len(classes_names_list)\n",
    "print(num_classes)"
   ]
  },
  {
   "cell_type": "code",
   "execution_count": 7,
   "metadata": {},
   "outputs": [
    {
     "name": "stdout",
     "output_type": "stream",
     "text": [
      "(116400, 44, 44, 3)\n"
     ]
    }
   ],
   "source": [
    "img_data = np.array(img_data_list)\n",
    "img_data = img_data.astype('float32')\n",
    "img_data /= 255\n",
    "print(img_data.shape)"
   ]
  },
  {
   "cell_type": "code",
   "execution_count": 8,
   "metadata": {},
   "outputs": [],
   "source": [
    "num_of_samples = img_data.shape[0]\n",
    "input_shape = img_data[0].shape"
   ]
  },
  {
   "cell_type": "code",
   "execution_count": 9,
   "metadata": {},
   "outputs": [
    {
     "data": {
      "text/plain": [
       "array([ 0,  1,  2,  3,  4,  5,  6,  7,  8,  9, 10, 11, 12, 13, 14, 15, 16,\n",
       "       17, 18, 19, 20, 21, 22, 23, 24, 25, 26, 27, 28, 29, 30, 31, 32, 33,\n",
       "       34, 35, 36, 37, 38, 39, 40, 41, 42, 43, 44, 45, 46, 47, 48, 49, 50,\n",
       "       51, 52, 53, 54, 55, 56, 57, 58, 59], dtype=int64)"
      ]
     },
     "execution_count": 9,
     "metadata": {},
     "output_type": "execute_result"
    }
   ],
   "source": [
    "Labelencoder = LabelEncoder()\n",
    "target_column = Labelencoder.fit_transform(target_column)\n",
    "np.unique(target_column)"
   ]
  },
  {
   "cell_type": "code",
   "execution_count": 10,
   "metadata": {},
   "outputs": [],
   "source": [
    "target_column_hotcoded = to_categorical(target_column,num_classes)\n",
    "X,Y = shuffle(img_data,target_column_hotcoded,random_state=2)\n",
    "X_train,X_test,y_train,y_test = train_test_split(X,Y,test_size=0.2,random_state=2)"
   ]
  },
  {
   "cell_type": "code",
   "execution_count": 11,
   "metadata": {
    "scrolled": true
   },
   "outputs": [
    {
     "name": "stdout",
     "output_type": "stream",
     "text": [
      "Model: \"sequential\"\n",
      "_________________________________________________________________\n",
      "Layer (type)                 Output Shape              Param #   \n",
      "=================================================================\n",
      "conv2d (Conv2D)              (None, 44, 44, 64)        1792      \n",
      "_________________________________________________________________\n",
      "dropout (Dropout)            (None, 44, 44, 64)        0         \n",
      "_________________________________________________________________\n",
      "max_pooling2d (MaxPooling2D) (None, 22, 22, 64)        0         \n",
      "_________________________________________________________________\n",
      "dropout_1 (Dropout)          (None, 22, 22, 64)        0         \n",
      "_________________________________________________________________\n",
      "conv2d_1 (Conv2D)            (None, 22, 22, 128)       73856     \n",
      "_________________________________________________________________\n",
      "dropout_2 (Dropout)          (None, 22, 22, 128)       0         \n",
      "_________________________________________________________________\n",
      "max_pooling2d_1 (MaxPooling2 (None, 11, 11, 128)       0         \n",
      "_________________________________________________________________\n",
      "dropout_3 (Dropout)          (None, 11, 11, 128)       0         \n",
      "_________________________________________________________________\n",
      "conv2d_2 (Conv2D)            (None, 11, 11, 256)       295168    \n",
      "_________________________________________________________________\n",
      "dropout_4 (Dropout)          (None, 11, 11, 256)       0         \n",
      "_________________________________________________________________\n",
      "conv2d_3 (Conv2D)            (None, 11, 11, 256)       590080    \n",
      "_________________________________________________________________\n",
      "dropout_5 (Dropout)          (None, 11, 11, 256)       0         \n",
      "_________________________________________________________________\n",
      "max_pooling2d_2 (MaxPooling2 (None, 5, 5, 256)         0         \n",
      "_________________________________________________________________\n",
      "dropout_6 (Dropout)          (None, 5, 5, 256)         0         \n",
      "_________________________________________________________________\n",
      "conv2d_4 (Conv2D)            (None, 5, 5, 512)         1180160   \n",
      "_________________________________________________________________\n",
      "dropout_7 (Dropout)          (None, 5, 5, 512)         0         \n",
      "_________________________________________________________________\n",
      "conv2d_5 (Conv2D)            (None, 5, 5, 512)         2359808   \n",
      "_________________________________________________________________\n",
      "dropout_8 (Dropout)          (None, 5, 5, 512)         0         \n",
      "_________________________________________________________________\n",
      "max_pooling2d_3 (MaxPooling2 (None, 2, 2, 512)         0         \n",
      "_________________________________________________________________\n",
      "dropout_9 (Dropout)          (None, 2, 2, 512)         0         \n",
      "_________________________________________________________________\n",
      "flatten (Flatten)            (None, 2048)              0         \n",
      "_________________________________________________________________\n",
      "dense (Dense)                (None, 512)               1049088   \n",
      "_________________________________________________________________\n",
      "dropout_10 (Dropout)         (None, 512)               0         \n",
      "_________________________________________________________________\n",
      "dense_1 (Dense)              (None, 512)               262656    \n",
      "_________________________________________________________________\n",
      "dropout_11 (Dropout)         (None, 512)               0         \n",
      "_________________________________________________________________\n",
      "dense_2 (Dense)              (None, 60)                30780     \n",
      "=================================================================\n",
      "Total params: 5,843,388\n",
      "Trainable params: 5,843,388\n",
      "Non-trainable params: 0\n",
      "_________________________________________________________________\n"
     ]
    }
   ],
   "source": [
    "model = Sequential()\n",
    "\n",
    "model.add(Conv2D(64, (3, 3), input_shape=input_shape, activation='relu', padding='same',kernel_regularizer=regularizers.l2(0.000001)))\n",
    "model.add(Dropout(rate=0.2))\n",
    "model.add(MaxPool2D(pool_size=(2, 2)))\n",
    "model.add(Dropout(rate=0.2))\n",
    "\n",
    "model.add(Conv2D(128, (3, 3), activation='relu', padding='same', kernel_regularizer=regularizers.l2(0.000001)))\n",
    "model.add(Dropout(rate=0.2))\n",
    "model.add(MaxPool2D(pool_size=(2, 2)))\n",
    "model.add(Dropout(rate=0.2))\n",
    "\n",
    "model.add(Conv2D(256, (3, 3), activation='relu', padding='same', kernel_regularizer=regularizers.l2(0.000001)))\n",
    "model.add(Dropout(rate=0.2))\n",
    "model.add(Conv2D(256, (3, 3), activation='relu', padding='same', kernel_regularizer=regularizers.l2(0.000001)))\n",
    "model.add(Dropout(rate=0.2))\n",
    "model.add(MaxPool2D(pool_size=(2, 2)))\n",
    "model.add(Dropout(rate=0.2))\n",
    "\n",
    "model.add(Conv2D(512, (3, 3), activation='relu', padding='same', kernel_regularizer=regularizers.l2(0.000001)))\n",
    "model.add(Dropout(rate=0.2))\n",
    "model.add(Conv2D(512, (3, 3), activation='relu', padding='same', kernel_regularizer=regularizers.l2(0.000001)))\n",
    "model.add(Dropout(rate=0.2))\n",
    "model.add(MaxPool2D(pool_size=(2, 2)))\n",
    "model.add(Dropout(rate=0.2))\n",
    "\n",
    "model.add(Flatten())\n",
    "model.add(Dense(512, activation='relu', kernel_regularizer=regularizers.l2(0.000001)))\n",
    "model.add(Dropout(rate=0.2))\n",
    "model.add(Dense(512, activation='relu', kernel_regularizer=regularizers.l2(0.000001)))\n",
    "model.add(Dropout(rate=0.2))\n",
    "model.add(Dense(units=num_classes, activation=\"softmax\"))\n",
    "\n",
    "\n",
    "model.compile(loss='categorical_crossentropy',optimizer='adam',metrics=['accuracy'])\n",
    "model.summary()"
   ]
  },
  {
   "cell_type": "code",
   "execution_count": 12,
   "metadata": {},
   "outputs": [
    {
     "name": "stdout",
     "output_type": "stream",
     "text": [
      "Train on 93120 samples, validate on 23280 samples\n",
      "Epoch 1/20\n",
      "93120/93120 [==============================] - 2375s 26ms/sample - loss: 1.7430 - accuracy: 0.5263 - val_loss: 0.6368 - val_accuracy: 0.8757\n",
      "Epoch 2/20\n",
      "93120/93120 [==============================] - 2343s 25ms/sample - loss: 0.4227 - accuracy: 0.8812 - val_loss: 0.3485 - val_accuracy: 0.9271\n",
      "Epoch 3/20\n",
      "93120/93120 [==============================] - 2737s 29ms/sample - loss: 0.3083 - accuracy: 0.9135 - val_loss: 0.2764 - val_accuracy: 0.9351\n",
      "Epoch 4/20\n",
      "93120/93120 [==============================] - 2512s 27ms/sample - loss: 0.2651 - accuracy: 0.9274 - val_loss: 0.2341 - val_accuracy: 0.9419\n",
      "Epoch 5/20\n",
      "93120/93120 [==============================] - 2224s 24ms/sample - loss: 0.2402 - accuracy: 0.9335 - val_loss: 0.2395 - val_accuracy: 0.9436\n",
      "Epoch 6/20\n",
      "93120/93120 [==============================] - 2583s 28ms/sample - loss: 0.2196 - accuracy: 0.9397 - val_loss: 0.2188 - val_accuracy: 0.9458\n",
      "Epoch 7/20\n",
      "93120/93120 [==============================] - 2387s 26ms/sample - loss: 0.2041 - accuracy: 0.9434 - val_loss: 0.2124 - val_accuracy: 0.9482\n",
      "Epoch 8/20\n",
      "93120/93120 [==============================] - 2263s 24ms/sample - loss: 0.1981 - accuracy: 0.9471 - val_loss: 0.2094 - val_accuracy: 0.9486\n",
      "Epoch 9/20\n",
      "93120/93120 [==============================] - 2284s 25ms/sample - loss: 0.1866 - accuracy: 0.9491 - val_loss: 0.1961 - val_accuracy: 0.9499\n",
      "Epoch 10/20\n",
      "93120/93120 [==============================] - 2712s 29ms/sample - loss: 0.1797 - accuracy: 0.9512 - val_loss: 0.2081 - val_accuracy: 0.9476\n",
      "Epoch 11/20\n",
      "93120/93120 [==============================] - 2169s 23ms/sample - loss: 0.1730 - accuracy: 0.9535 - val_loss: 0.1915 - val_accuracy: 0.9509\n",
      "Epoch 12/20\n",
      "93120/93120 [==============================] - 2202s 24ms/sample - loss: 0.1721 - accuracy: 0.9537 - val_loss: 0.1971 - val_accuracy: 0.9516\n",
      "Epoch 13/20\n",
      "93120/93120 [==============================] - 2329s 25ms/sample - loss: 0.1682 - accuracy: 0.9547 - val_loss: 0.2031 - val_accuracy: 0.9498\n",
      "Epoch 14/20\n",
      "93120/93120 [==============================] - 2677s 29ms/sample - loss: 0.1630 - accuracy: 0.9570 - val_loss: 0.1930 - val_accuracy: 0.9525\n",
      "Epoch 15/20\n",
      "93120/93120 [==============================] - 2423s 26ms/sample - loss: 0.1570 - accuracy: 0.9589 - val_loss: 0.2044 - val_accuracy: 0.9499\n",
      "Epoch 16/20\n",
      "93120/93120 [==============================] - 2441s 26ms/sample - loss: 0.1580 - accuracy: 0.9594 - val_loss: 0.1967 - val_accuracy: 0.9515\n",
      "Epoch 17/20\n",
      "93120/93120 [==============================] - 2391s 26ms/sample - loss: 0.1567 - accuracy: 0.9601 - val_loss: 0.2040 - val_accuracy: 0.9497\n",
      "Epoch 18/20\n",
      "93120/93120 [==============================] - 2316s 25ms/sample - loss: 0.1575 - accuracy: 0.9594 - val_loss: 0.1979 - val_accuracy: 0.9521\n",
      "Epoch 19/20\n",
      "93120/93120 [==============================] - 2259s 24ms/sample - loss: 0.1586 - accuracy: 0.9597 - val_loss: 0.2008 - val_accuracy: 0.9515\n",
      "Epoch 20/20\n",
      "93120/93120 [==============================] - 2264s 24ms/sample - loss: 0.1531 - accuracy: 0.9613 - val_loss: 0.2047 - val_accuracy: 0.9501\n",
      "23280/23280 [==============================] - 178s 8ms/sample - loss: 0.2047 - accuracy: 0.9501\n",
      "Test Loss 0.20471672152530695\n",
      "Test Accuracy 0.95012885\n"
     ]
    }
   ],
   "source": [
    "hist = model.fit(X_train,y_train,batch_size=batch_size,epochs=num_epoch,verbose=1,validation_data=(X_test,y_test))\n",
    "score = model.evaluate(X_test,y_test,batch_size=batch_size)\n",
    "print('Test Loss',score[0])\n",
    "print(\"Test Accuracy\",score[1])"
   ]
  },
  {
   "cell_type": "code",
   "execution_count": 13,
   "metadata": {},
   "outputs": [
    {
     "data": {
      "image/png": "[encoded data removed]",
      "text/plain": [
       "<Figure size 432x288 with 1 Axes>"
      ]
     },
     "metadata": {
      "needs_background": "light"
     },
     "output_type": "display_data"
    },
    {
     "data": {
      "image/png": "[encoded data removed]",
      "text/plain": [
       "<Figure size 432x288 with 1 Axes>"
      ]
     },
     "metadata": {
      "needs_background": "light"
     },
     "output_type": "display_data"
    }
   ],
   "source": [
    "#Summarize hist for accuracy\n",
    "plt.plot(hist.history['accuracy'])\n",
    "plt.plot(hist.history['val_accuracy'])\n",
    "plt.title('model accuracy')\n",
    "plt.ylabel('accuracy')\n",
    "plt.xlabel('epoch')\n",
    "plt.legend(['train','test'],loc = 'upper left')\n",
    "plt.show()\n",
    "\n",
    "#summarize hist for loss\n",
    "plt.plot(hist.history['loss'])\n",
    "plt.plot(hist.history['val_loss'])\n",
    "plt.title('model loss')\n",
    "plt.ylabel('accuracy')\n",
    "plt.xlabel('epoch')\n",
    "plt.legend(['train','test'],loc = 'upper left')\n",
    "plt.show()"
   ]
  },
  {
   "cell_type": "code",
   "execution_count": 17,
   "metadata": {},
   "outputs": [
    {
     "data": {
      "text/plain": [
       "<matplotlib.image.AxesImage at 0x233b85eea88>"
      ]
     },
     "execution_count": 17,
     "metadata": {},
     "output_type": "execute_result"
    },
    {
     "data": {
      "image/png": "[encoded data removed]",
      "text/plain": [
       "<Figure size 432x288 with 1 Axes>"
      ]
     },
     "metadata": {
      "needs_background": "light"
     },
     "output_type": "display_data"
    }
   ],
   "source": [
    "test_image = X_test[0:1]\n",
    "plt.imshow(X_test[0])"
   ]
  },
  {
   "cell_type": "code",
   "execution_count": 24,
   "metadata": {},
   "outputs": [
    {
     "data": {
      "text/plain": [
       "<matplotlib.image.AxesImage at 0x233b86491c8>"
      ]
     },
     "execution_count": 24,
     "metadata": {},
     "output_type": "execute_result"
    },
    {
     "data": {
      "image/png": "[encoded data removed]",
      "text/plain": [
       "<Figure size 432x288 with 1 Axes>"
      ]
     },
     "metadata": {
      "needs_background": "light"
     },
     "output_type": "display_data"
    }
   ],
   "source": [
    "plt.imshow(X_test[85])"
   ]
  },
  {
   "cell_type": "code",
   "execution_count": 25,
   "metadata": {},
   "outputs": [
    {
     "data": {
      "text/plain": [
       "<matplotlib.image.AxesImage at 0x233b869d8c8>"
      ]
     },
     "execution_count": 25,
     "metadata": {},
     "output_type": "execute_result"
    },
    {
     "data": {
      "image/png": "[encoded data removed]",
      "text/plain": [
       "<Figure size 432x288 with 1 Axes>"
      ]
     },
     "metadata": {
      "needs_background": "light"
     },
     "output_type": "display_data"
    }
   ],
   "source": [
    "plt.imshow(X_test[26])"
   ]
  }
 ],
 "metadata": {
  "kernelspec": {
   "display_name": "Python 3",
   "language": "python",
   "name": "python3"
  },
  "language_info": {
   "codemirror_mode": {
    "name": "ipython",
    "version": 3
   },
   "file_extension": ".py",
   "mimetype": "text/x-python",
   "name": "python",
   "nbconvert_exporter": "python",
   "pygments_lexer": "ipython3",
   "version": "3.7.4"
  }
 },
 "nbformat": 4,
 "nbformat_minor": 2
}
